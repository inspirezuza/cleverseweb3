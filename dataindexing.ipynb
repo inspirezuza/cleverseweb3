{
  "nbformat": 4,
  "nbformat_minor": 0,
  "metadata": {
    "colab": {
      "provenance": [],
      "authorship_tag": "ABX9TyPLu6XEACm+7oYvV2/Hha+z",
      "include_colab_link": true
    },
    "kernelspec": {
      "name": "python3",
      "display_name": "Python 3"
    },
    "language_info": {
      "name": "python"
    }
  },
  "cells": [
    {
      "cell_type": "markdown",
      "metadata": {
        "id": "view-in-github",
        "colab_type": "text"
      },
      "source": [
        "<a href=\"https://colab.research.google.com/github/inspirezuza/cleverseweb3/blob/main/dataindexing.ipynb\" target=\"_parent\"><img src=\"https://colab.research.google.com/assets/colab-badge.svg\" alt=\"Open In Colab\"/></a>"
      ]
    },
    {
      "cell_type": "code",
      "source": [
        "!pip install web3"
      ],
      "metadata": {
        "id": "7fcTcilc0v4x"
      },
      "execution_count": null,
      "outputs": []
    },
    {
      "cell_type": "code",
      "source": [
        "from web3 import Web3"
      ],
      "metadata": {
        "id": "uolzG_QP1Bhb"
      },
      "execution_count": null,
      "outputs": []
    },
    {
      "cell_type": "code",
      "execution_count": null,
      "metadata": {
        "id": "hZskswTcwHbT"
      },
      "outputs": [],
      "source": [
        "w3 = Web3(Web3.HTTPProvider(\"http://rpc2.sepolia.org\"))\n",
        "\n",
        "topic0 = w3.keccak(text=\"Transfer(address,address,uint256)\")\n",
        "print(w3.to_hex(topic0))\n",
        "\n",
        "logs = w3.eth.get_logs({\n",
        "    \"fromBlock\": 6255225,\n",
        "    \"toBlock\": \"latest\",\n",
        "    \"address\": \"0xb0AB942ac9A49Df99F98e3969DFE51d72E154CDA\",\n",
        "    \"topics\": [topic0]\n",
        "    })\n",
        "\n",
        "print(logs)\n",
        "print(len(logs))"
      ]
    },
    {
      "cell_type": "code",
      "source": [
        "from eth_abi import decode"
      ],
      "metadata": {
        "id": "yxmAFvX2_EKZ"
      },
      "execution_count": null,
      "outputs": []
    },
    {
      "cell_type": "code",
      "source": [
        "transfers = []\n",
        "for log in logs:\n",
        "  result = {\n",
        "      'from_address': decode([\"address\"], log['topics'][1]),\n",
        "      'to_address': decode([\"address\"], log['topics'][2]),\n",
        "      'amount': decode([\"uint256\"], log['data'])\n",
        "  }\n",
        "  transfers.append(result)\n",
        "\n",
        "print(transfers)"
      ],
      "metadata": {
        "id": "86i1isyX-mgf"
      },
      "execution_count": null,
      "outputs": []
    },
    {
      "cell_type": "code",
      "source": [
        "balances = {}\n",
        "\n",
        "for transfer in transfers:\n",
        "  if transfer[\"from_address\"] not in balances:\n",
        "    balances[transfer[\"from_address\"]] = 0\n",
        "  if transfer[\"to_address\"] not in balances:\n",
        "    balances[transfer[\"to_address\"]] = 0\n",
        "\n",
        "  if transfer[\"from_address\"] != \"0x0000000000000000000000000000000000000000\":\n",
        "    balances[transfer[\"from_address\"]] -= transfer[\"amount\"]\n",
        "\n",
        "  # balances[transfer[\"to_address\"]] += transfer[\"amount\"]\n",
        "\n",
        "print(balances)\n"
      ],
      "metadata": {
        "colab": {
          "base_uri": "https://localhost:8080/",
          "height": 211
        },
        "id": "hr5Oozfw-h-0",
        "outputId": "5a19d8a1-d99f-4246-f0ee-ebb3e4c7c1c5"
      },
      "execution_count": null,
      "outputs": [
        {
          "output_type": "error",
          "ename": "NameError",
          "evalue": "name 'transfers' is not defined",
          "traceback": [
            "\u001b[0;31m---------------------------------------------------------------------------\u001b[0m",
            "\u001b[0;31mNameError\u001b[0m                                 Traceback (most recent call last)",
            "\u001b[0;32m<ipython-input-1-6713994dc9cd>\u001b[0m in \u001b[0;36m<cell line: 3>\u001b[0;34m()\u001b[0m\n\u001b[1;32m      1\u001b[0m \u001b[0mbalances\u001b[0m \u001b[0;34m=\u001b[0m \u001b[0;34m{\u001b[0m\u001b[0;34m}\u001b[0m\u001b[0;34m\u001b[0m\u001b[0;34m\u001b[0m\u001b[0m\n\u001b[1;32m      2\u001b[0m \u001b[0;34m\u001b[0m\u001b[0m\n\u001b[0;32m----> 3\u001b[0;31m \u001b[0;32mfor\u001b[0m \u001b[0mtransfer\u001b[0m \u001b[0;32min\u001b[0m \u001b[0mtransfers\u001b[0m\u001b[0;34m:\u001b[0m\u001b[0;34m\u001b[0m\u001b[0;34m\u001b[0m\u001b[0m\n\u001b[0m\u001b[1;32m      4\u001b[0m   \u001b[0;32mif\u001b[0m \u001b[0mtransfer\u001b[0m\u001b[0;34m[\u001b[0m\u001b[0;34m\"from_address\"\u001b[0m\u001b[0;34m]\u001b[0m \u001b[0;32mnot\u001b[0m \u001b[0;32min\u001b[0m \u001b[0mbalances\u001b[0m\u001b[0;34m:\u001b[0m\u001b[0;34m\u001b[0m\u001b[0;34m\u001b[0m\u001b[0m\n\u001b[1;32m      5\u001b[0m     \u001b[0mbalances\u001b[0m\u001b[0;34m[\u001b[0m\u001b[0mtransfer\u001b[0m\u001b[0;34m[\u001b[0m\u001b[0;34m\"from_address\"\u001b[0m\u001b[0;34m]\u001b[0m\u001b[0;34m]\u001b[0m \u001b[0;34m=\u001b[0m \u001b[0;36m0\u001b[0m\u001b[0;34m\u001b[0m\u001b[0;34m\u001b[0m\u001b[0m\n",
            "\u001b[0;31mNameError\u001b[0m: name 'transfers' is not defined"
          ]
        }
      ]
    }
  ]
}